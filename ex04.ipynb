{
  "nbformat": 4,
  "nbformat_minor": 0,
  "metadata": {
    "colab": {
      "name": "ex04.ipynb",
      "provenance": [],
      "collapsed_sections": [],
      "include_colab_link": true
    },
    "kernelspec": {
      "name": "python3",
      "display_name": "Python 3"
    },
    "language_info": {
      "name": "python"
    }
  },
  "cells": [
    {
      "cell_type": "markdown",
      "metadata": {
        "id": "view-in-github",
        "colab_type": "text"
      },
      "source": [
        "<a href=\"https://colab.research.google.com/github/Seong-heum/kics2021/blob/main/ex04.ipynb\" target=\"_parent\"><img src=\"https://colab.research.google.com/assets/colab-badge.svg\" alt=\"Open In Colab\"/></a>"
      ]
    },
    {
      "cell_type": "markdown",
      "metadata": {
        "id": "I5MOLPx_S5rZ"
      },
      "source": [
        "# EX. 04\n",
        "[Colab.] https://github.com/Seong-heum/kics2021/blob/main/ex04.ipynb"
      ]
    },
    {
      "cell_type": "markdown",
      "metadata": {
        "id": "xyU112xCUPYX"
      },
      "source": [
        "# 4-1"
      ]
    },
    {
      "cell_type": "code",
      "metadata": {
        "id": "2OY__oDnSPtD"
      },
      "source": [
        "from sklearn import datasets\n",
        "from sklearn.cluster import KMeans\n",
        "from sklearn.neighbors import KNeighborsClassifier\n",
        "from sklearn import metrics\n",
        "from sklearn.model_selection import train_test_split\n",
        "import matplotlib.pyplot as plt"
      ],
      "execution_count": null,
      "outputs": []
    },
    {
      "cell_type": "code",
      "metadata": {
        "id": "bhCV3DJTTzVe"
      },
      "source": [
        "# load iris\n",
        "iris = datasets.load_iris()\n",
        "X = iris.data"
      ],
      "execution_count": null,
      "outputs": []
    },
    {
      "cell_type": "code",
      "metadata": {
        "colab": {
          "base_uri": "https://localhost:8080/"
        },
        "id": "4j_YT0v-T4Nv",
        "outputId": "b5a2115a-3aec-44c3-981f-02c8872a5a49"
      },
      "source": [
        "# print iris (feature, label)\n",
        "print(iris.data)\n",
        "print(iris.data.shape)\n",
        "print(iris.feature_names)\n",
        "print(iris.target)\n",
        "print(iris.target_names)"
      ],
      "execution_count": null,
      "outputs": [
        {
          "output_type": "stream",
          "text": [
            "[[5.1 3.5 1.4 0.2]\n",
            " [4.9 3.  1.4 0.2]\n",
            " [4.7 3.2 1.3 0.2]\n",
            " [4.6 3.1 1.5 0.2]\n",
            " [5.  3.6 1.4 0.2]\n",
            " [5.4 3.9 1.7 0.4]\n",
            " [4.6 3.4 1.4 0.3]\n",
            " [5.  3.4 1.5 0.2]\n",
            " [4.4 2.9 1.4 0.2]\n",
            " [4.9 3.1 1.5 0.1]\n",
            " [5.4 3.7 1.5 0.2]\n",
            " [4.8 3.4 1.6 0.2]\n",
            " [4.8 3.  1.4 0.1]\n",
            " [4.3 3.  1.1 0.1]\n",
            " [5.8 4.  1.2 0.2]\n",
            " [5.7 4.4 1.5 0.4]\n",
            " [5.4 3.9 1.3 0.4]\n",
            " [5.1 3.5 1.4 0.3]\n",
            " [5.7 3.8 1.7 0.3]\n",
            " [5.1 3.8 1.5 0.3]\n",
            " [5.4 3.4 1.7 0.2]\n",
            " [5.1 3.7 1.5 0.4]\n",
            " [4.6 3.6 1.  0.2]\n",
            " [5.1 3.3 1.7 0.5]\n",
            " [4.8 3.4 1.9 0.2]\n",
            " [5.  3.  1.6 0.2]\n",
            " [5.  3.4 1.6 0.4]\n",
            " [5.2 3.5 1.5 0.2]\n",
            " [5.2 3.4 1.4 0.2]\n",
            " [4.7 3.2 1.6 0.2]\n",
            " [4.8 3.1 1.6 0.2]\n",
            " [5.4 3.4 1.5 0.4]\n",
            " [5.2 4.1 1.5 0.1]\n",
            " [5.5 4.2 1.4 0.2]\n",
            " [4.9 3.1 1.5 0.2]\n",
            " [5.  3.2 1.2 0.2]\n",
            " [5.5 3.5 1.3 0.2]\n",
            " [4.9 3.6 1.4 0.1]\n",
            " [4.4 3.  1.3 0.2]\n",
            " [5.1 3.4 1.5 0.2]\n",
            " [5.  3.5 1.3 0.3]\n",
            " [4.5 2.3 1.3 0.3]\n",
            " [4.4 3.2 1.3 0.2]\n",
            " [5.  3.5 1.6 0.6]\n",
            " [5.1 3.8 1.9 0.4]\n",
            " [4.8 3.  1.4 0.3]\n",
            " [5.1 3.8 1.6 0.2]\n",
            " [4.6 3.2 1.4 0.2]\n",
            " [5.3 3.7 1.5 0.2]\n",
            " [5.  3.3 1.4 0.2]\n",
            " [7.  3.2 4.7 1.4]\n",
            " [6.4 3.2 4.5 1.5]\n",
            " [6.9 3.1 4.9 1.5]\n",
            " [5.5 2.3 4.  1.3]\n",
            " [6.5 2.8 4.6 1.5]\n",
            " [5.7 2.8 4.5 1.3]\n",
            " [6.3 3.3 4.7 1.6]\n",
            " [4.9 2.4 3.3 1. ]\n",
            " [6.6 2.9 4.6 1.3]\n",
            " [5.2 2.7 3.9 1.4]\n",
            " [5.  2.  3.5 1. ]\n",
            " [5.9 3.  4.2 1.5]\n",
            " [6.  2.2 4.  1. ]\n",
            " [6.1 2.9 4.7 1.4]\n",
            " [5.6 2.9 3.6 1.3]\n",
            " [6.7 3.1 4.4 1.4]\n",
            " [5.6 3.  4.5 1.5]\n",
            " [5.8 2.7 4.1 1. ]\n",
            " [6.2 2.2 4.5 1.5]\n",
            " [5.6 2.5 3.9 1.1]\n",
            " [5.9 3.2 4.8 1.8]\n",
            " [6.1 2.8 4.  1.3]\n",
            " [6.3 2.5 4.9 1.5]\n",
            " [6.1 2.8 4.7 1.2]\n",
            " [6.4 2.9 4.3 1.3]\n",
            " [6.6 3.  4.4 1.4]\n",
            " [6.8 2.8 4.8 1.4]\n",
            " [6.7 3.  5.  1.7]\n",
            " [6.  2.9 4.5 1.5]\n",
            " [5.7 2.6 3.5 1. ]\n",
            " [5.5 2.4 3.8 1.1]\n",
            " [5.5 2.4 3.7 1. ]\n",
            " [5.8 2.7 3.9 1.2]\n",
            " [6.  2.7 5.1 1.6]\n",
            " [5.4 3.  4.5 1.5]\n",
            " [6.  3.4 4.5 1.6]\n",
            " [6.7 3.1 4.7 1.5]\n",
            " [6.3 2.3 4.4 1.3]\n",
            " [5.6 3.  4.1 1.3]\n",
            " [5.5 2.5 4.  1.3]\n",
            " [5.5 2.6 4.4 1.2]\n",
            " [6.1 3.  4.6 1.4]\n",
            " [5.8 2.6 4.  1.2]\n",
            " [5.  2.3 3.3 1. ]\n",
            " [5.6 2.7 4.2 1.3]\n",
            " [5.7 3.  4.2 1.2]\n",
            " [5.7 2.9 4.2 1.3]\n",
            " [6.2 2.9 4.3 1.3]\n",
            " [5.1 2.5 3.  1.1]\n",
            " [5.7 2.8 4.1 1.3]\n",
            " [6.3 3.3 6.  2.5]\n",
            " [5.8 2.7 5.1 1.9]\n",
            " [7.1 3.  5.9 2.1]\n",
            " [6.3 2.9 5.6 1.8]\n",
            " [6.5 3.  5.8 2.2]\n",
            " [7.6 3.  6.6 2.1]\n",
            " [4.9 2.5 4.5 1.7]\n",
            " [7.3 2.9 6.3 1.8]\n",
            " [6.7 2.5 5.8 1.8]\n",
            " [7.2 3.6 6.1 2.5]\n",
            " [6.5 3.2 5.1 2. ]\n",
            " [6.4 2.7 5.3 1.9]\n",
            " [6.8 3.  5.5 2.1]\n",
            " [5.7 2.5 5.  2. ]\n",
            " [5.8 2.8 5.1 2.4]\n",
            " [6.4 3.2 5.3 2.3]\n",
            " [6.5 3.  5.5 1.8]\n",
            " [7.7 3.8 6.7 2.2]\n",
            " [7.7 2.6 6.9 2.3]\n",
            " [6.  2.2 5.  1.5]\n",
            " [6.9 3.2 5.7 2.3]\n",
            " [5.6 2.8 4.9 2. ]\n",
            " [7.7 2.8 6.7 2. ]\n",
            " [6.3 2.7 4.9 1.8]\n",
            " [6.7 3.3 5.7 2.1]\n",
            " [7.2 3.2 6.  1.8]\n",
            " [6.2 2.8 4.8 1.8]\n",
            " [6.1 3.  4.9 1.8]\n",
            " [6.4 2.8 5.6 2.1]\n",
            " [7.2 3.  5.8 1.6]\n",
            " [7.4 2.8 6.1 1.9]\n",
            " [7.9 3.8 6.4 2. ]\n",
            " [6.4 2.8 5.6 2.2]\n",
            " [6.3 2.8 5.1 1.5]\n",
            " [6.1 2.6 5.6 1.4]\n",
            " [7.7 3.  6.1 2.3]\n",
            " [6.3 3.4 5.6 2.4]\n",
            " [6.4 3.1 5.5 1.8]\n",
            " [6.  3.  4.8 1.8]\n",
            " [6.9 3.1 5.4 2.1]\n",
            " [6.7 3.1 5.6 2.4]\n",
            " [6.9 3.1 5.1 2.3]\n",
            " [5.8 2.7 5.1 1.9]\n",
            " [6.8 3.2 5.9 2.3]\n",
            " [6.7 3.3 5.7 2.5]\n",
            " [6.7 3.  5.2 2.3]\n",
            " [6.3 2.5 5.  1.9]\n",
            " [6.5 3.  5.2 2. ]\n",
            " [6.2 3.4 5.4 2.3]\n",
            " [5.9 3.  5.1 1.8]]\n",
            "(150, 4)\n",
            "['sepal length (cm)', 'sepal width (cm)', 'petal length (cm)', 'petal width (cm)']\n",
            "[0 0 0 0 0 0 0 0 0 0 0 0 0 0 0 0 0 0 0 0 0 0 0 0 0 0 0 0 0 0 0 0 0 0 0 0 0\n",
            " 0 0 0 0 0 0 0 0 0 0 0 0 0 1 1 1 1 1 1 1 1 1 1 1 1 1 1 1 1 1 1 1 1 1 1 1 1\n",
            " 1 1 1 1 1 1 1 1 1 1 1 1 1 1 1 1 1 1 1 1 1 1 1 1 1 1 2 2 2 2 2 2 2 2 2 2 2\n",
            " 2 2 2 2 2 2 2 2 2 2 2 2 2 2 2 2 2 2 2 2 2 2 2 2 2 2 2 2 2 2 2 2 2 2 2 2 2\n",
            " 2 2]\n",
            "['setosa' 'versicolor' 'virginica']\n"
          ],
          "name": "stdout"
        }
      ]
    },
    {
      "cell_type": "code",
      "metadata": {
        "colab": {
          "base_uri": "https://localhost:8080/",
          "height": 268
        },
        "id": "gbrcNAu9T7LN",
        "outputId": "3855e00f-747f-41c4-cdae-f0b6e5d52ab9"
      },
      "source": [
        "# k-means clustering\n",
        "#y_pred = KMeans(n_clusters=3).fit_predict(X)\n",
        "plt.scatter(X[:,0], X[:,1])\n",
        "plt.show()\n",
        "y_pred = KMeans(n_clusters=3).fit_predict(X[:,0:2])"
      ],
      "execution_count": null,
      "outputs": [
        {
          "output_type": "display_data",
          "data": {
            "image/png": "[encoded data removed]",
            "text/plain": [
              "<Figure size 432x288 with 1 Axes>"
            ]
          },
          "metadata": {
            "tags": [],
            "needs_background": "light"
          }
        }
      ]
    },
    {
      "cell_type": "code",
      "metadata": {
        "colab": {
          "base_uri": "https://localhost:8080/",
          "height": 268
        },
        "id": "j4j6s3BuT9NY",
        "outputId": "0003d622-e8fa-483c-8383-fa83e8363ca3"
      },
      "source": [
        "# visualization\n",
        "plt.scatter(X[:,0], X[:,1], c=y_pred)\n",
        "plt.show()"
      ],
      "execution_count": null,
      "outputs": [
        {
          "output_type": "display_data",
          "data": {
            "image/png": "[encoded data removed]",
            "text/plain": [
              "<Figure size 432x288 with 1 Axes>"
            ]
          },
          "metadata": {
            "tags": [],
            "needs_background": "light"
          }
        }
      ]
    },
    {
      "cell_type": "code",
      "metadata": {
        "id": "J60DfXquT-i7"
      },
      "source": [
        "# prep. train/test data\n",
        "X_train, X_test, y_train, y_test = train_test_split(iris.data, iris.target, test_size=0.5)"
      ],
      "execution_count": null,
      "outputs": []
    },
    {
      "cell_type": "code",
      "metadata": {
        "colab": {
          "base_uri": "https://localhost:8080/"
        },
        "id": "OGgdtWz-UBqk",
        "outputId": "af9e316c-8302-4c10-c082-fe606af46e72"
      },
      "source": [
        "# test - two features\n",
        "for k in range(1,40,4):\n",
        "  knn = KNeighborsClassifier(n_neighbors= k)\n",
        "  knn.fit(X_train[:,0:2], y_train)\n",
        "  y_pred = knn.predict(X_test[:,0:2])\n",
        "  scores = metrics.accuracy_score(y_test, y_pred)\n",
        "  print(\"(n={0:d}) acc: {1:.3f}%\".format(k, scores) )"
      ],
      "execution_count": null,
      "outputs": [
        {
          "output_type": "stream",
          "text": [
            "(n=1) acc: 0.613%\n",
            "(n=5) acc: 0.720%\n",
            "(n=9) acc: 0.747%\n",
            "(n=13) acc: 0.707%\n",
            "(n=17) acc: 0.733%\n",
            "(n=21) acc: 0.747%\n",
            "(n=25) acc: 0.693%\n",
            "(n=29) acc: 0.680%\n",
            "(n=33) acc: 0.667%\n",
            "(n=37) acc: 0.680%\n"
          ],
          "name": "stdout"
        }
      ]
    },
    {
      "cell_type": "code",
      "metadata": {
        "colab": {
          "base_uri": "https://localhost:8080/"
        },
        "id": "YU3mKXEWUGv2",
        "outputId": "e31071cc-72ab-4a92-bbec-6108820b0c8b"
      },
      "source": [
        "# test - three features\n",
        "for k in range(1,40,4):\n",
        "  knn = KNeighborsClassifier(n_neighbors= k)\n",
        "  knn.fit(X_train[:,0:3], y_train)\n",
        "  y_pred = knn.predict(X_test[:,0:3])\n",
        "  scores = metrics.accuracy_score(y_test, y_pred)\n",
        "  print(\"(n={0:d}) acc: {1:.3f}%\".format(k, scores) )"
      ],
      "execution_count": null,
      "outputs": [
        {
          "output_type": "stream",
          "text": [
            "(n=1) acc: 0.880%\n",
            "(n=5) acc: 0.920%\n",
            "(n=9) acc: 0.907%\n",
            "(n=13) acc: 0.907%\n",
            "(n=17) acc: 0.893%\n",
            "(n=21) acc: 0.893%\n",
            "(n=25) acc: 0.880%\n",
            "(n=29) acc: 0.840%\n",
            "(n=33) acc: 0.840%\n",
            "(n=37) acc: 0.800%\n"
          ],
          "name": "stdout"
        }
      ]
    },
    {
      "cell_type": "code",
      "metadata": {
        "colab": {
          "base_uri": "https://localhost:8080/"
        },
        "id": "mT-NbyIVUIcX",
        "outputId": "84a7823b-0b58-4f1b-a725-6d08f855d6eb"
      },
      "source": [
        "# test - four features\n",
        "for k in range(1,40,4):\n",
        "  knn = KNeighborsClassifier(n_neighbors= k)\n",
        "  knn.fit(X_train, y_train)\n",
        "  y_pred = knn.predict(X_test)\n",
        "  scores = metrics.accuracy_score(y_test, y_pred)\n",
        "  print(\"(n={0:d}) acc: {1:.3f}%\".format(k, scores) )"
      ],
      "execution_count": null,
      "outputs": [
        {
          "output_type": "stream",
          "text": [
            "(n=1) acc: 0.947%\n",
            "(n=5) acc: 0.947%\n",
            "(n=9) acc: 0.947%\n",
            "(n=13) acc: 0.947%\n",
            "(n=17) acc: 0.947%\n",
            "(n=21) acc: 0.880%\n",
            "(n=25) acc: 0.893%\n",
            "(n=29) acc: 0.893%\n",
            "(n=33) acc: 0.840%\n",
            "(n=37) acc: 0.827%\n"
          ],
          "name": "stdout"
        }
      ]
    },
    {
      "cell_type": "markdown",
      "metadata": {
        "id": "sQ3N3LAxUStR"
      },
      "source": [
        "# 4-2"
      ]
    },
    {
      "cell_type": "code",
      "metadata": {
        "id": "62qL-wPTUUUH"
      },
      "source": [
        "from sklearn import datasets\n",
        "from sklearn import svm\n",
        "from sklearn import metrics\n",
        "from sklearn.ensemble import RandomForestClassifier\n",
        "from sklearn.model_selection import train_test_split\n",
        "from sklearn.model_selection import GridSearchCV"
      ],
      "execution_count": null,
      "outputs": []
    },
    {
      "cell_type": "code",
      "metadata": {
        "id": "p2N4Q33OUWNn"
      },
      "source": [
        "# load iris\n",
        "iris = datasets.load_iris()"
      ],
      "execution_count": null,
      "outputs": []
    },
    {
      "cell_type": "code",
      "metadata": {
        "id": "_pJRLBrbUXcN"
      },
      "source": [
        "# prep. train/test data\n",
        "X_train, X_test, y_train, y_test = train_test_split(iris.data, iris.target, test_size=0.5, random_state=1)"
      ],
      "execution_count": null,
      "outputs": []
    },
    {
      "cell_type": "code",
      "metadata": {
        "colab": {
          "base_uri": "https://localhost:8080/"
        },
        "id": "8ZSNWn4vUYru",
        "outputId": "2e7d4151-c2bc-42ee-c4b8-315b4a484294"
      },
      "source": [
        "# Support Vector Machine (SVM)\n",
        "clf = svm.SVC(random_state=1,kernel=\"linear\") # linear or rbf\n",
        "clf.fit(X_train, y_train)\n",
        "y_pred = clf.predict(X_test)\n",
        "score = metrics.accuracy_score(y_test, y_pred)\n",
        "print('acc. (SVM) =', score)"
      ],
      "execution_count": null,
      "outputs": [
        {
          "output_type": "stream",
          "text": [
            "acc. (SVM) = 1.0\n"
          ],
          "name": "stdout"
        }
      ]
    },
    {
      "cell_type": "code",
      "metadata": {
        "colab": {
          "base_uri": "https://localhost:8080/"
        },
        "id": "XUKHVhP_UZ7Z",
        "outputId": "328fd3e1-4a46-49b9-dfd1-279e75990dd5"
      },
      "source": [
        "# RF classifier\n",
        "for k in range(1,10,2):\n",
        "    clf = RandomForestClassifier(random_state=1, n_estimators=k)\n",
        "    clf.fit(X_train, y_train)\n",
        "    y_pred = clf.predict(X_test)\n",
        "    # evaluation\n",
        "    score = metrics.accuracy_score(y_test, y_pred)\n",
        "    print(\"(n={0:d}) RF: {1:.3f}%\".format(k, score))"
      ],
      "execution_count": null,
      "outputs": [
        {
          "output_type": "stream",
          "text": [
            "(n=1) RF: 0.773%\n",
            "(n=3) RF: 0.867%\n",
            "(n=5) RF: 0.867%\n",
            "(n=7) RF: 0.947%\n",
            "(n=9) RF: 0.947%\n"
          ],
          "name": "stdout"
        }
      ]
    },
    {
      "cell_type": "markdown",
      "metadata": {
        "id": "aRXaz5PhUgen"
      },
      "source": [
        "# 4-3"
      ]
    },
    {
      "cell_type": "code",
      "metadata": {
        "id": "pFk0hZ2jUh7O"
      },
      "source": [
        "from sklearn import datasets\n",
        "from sklearn import metrics\n",
        "from sklearn import svm\n",
        "from sklearn.neighbors import KNeighborsClassifier\n",
        "from sklearn.ensemble import RandomForestClassifier\n",
        "from sklearn.model_selection import train_test_split\n",
        "import numpy as np\n",
        "import pandas as pd\n",
        "import seaborn as sns\n",
        "import matplotlib.pyplot as plt"
      ],
      "execution_count": null,
      "outputs": []
    },
    {
      "cell_type": "code",
      "metadata": {
        "id": "8h56hlMAUlmR"
      },
      "source": [
        "# load iris\n",
        "iris = datasets.load_iris()"
      ],
      "execution_count": null,
      "outputs": []
    },
    {
      "cell_type": "code",
      "metadata": {
        "colab": {
          "base_uri": "https://localhost:8080/",
          "height": 262
        },
        "id": "KJW0RocwUmv5",
        "outputId": "d46b5f2a-e37d-4c8d-8510-e4752d22d365"
      },
      "source": [
        "# statical analysis\n",
        "features = np.column_stack((iris.data, iris.target))\n",
        "feature_names = iris.feature_names + ['category']\n",
        "df = pd.DataFrame(features, columns=feature_names)\n",
        "features_covariance = df.corr().round(2)\n",
        "plt.rc(\"font\", size=5)\n",
        "sns.heatmap(features_covariance, annot=True, cmap=\"Blues\")\n",
        "plt.show()\n"
      ],
      "execution_count": null,
      "outputs": [
        {
          "output_type": "display_data",
          "data": {
            "image/png": "[encoded data removed]",
            "text/plain": [
              "<Figure size 432x288 with 2 Axes>"
            ]
          },
          "metadata": {
            "tags": [],
            "needs_background": "light"
          }
        }
      ]
    },
    {
      "cell_type": "code",
      "metadata": {
        "id": "dI5y0FI7UoVq"
      },
      "source": [
        "# machine learning (a set of decision trees = weak classifiers)\n",
        "X_train, X_test, y_train, y_test = train_test_split(iris.data, iris.target, test_size=0.5, random_state=1)\n",
        "clf = RandomForestClassifier(random_state=1, n_estimators=10, oob_score=1)\n",
        "clf.fit(X_train, y_train)\n",
        "y_pred = clf.predict(X_test)"
      ],
      "execution_count": null,
      "outputs": []
    },
    {
      "cell_type": "code",
      "metadata": {
        "colab": {
          "base_uri": "https://localhost:8080/",
          "height": 278
        },
        "id": "oalm2gUnUpbZ",
        "outputId": "7da713df-7f00-4569-9230-e80d390a6f2a"
      },
      "source": [
        "# which feature is the most influential?\n",
        "feature_importances = clf.feature_importances_\n",
        "print(feature_importances)\n",
        "val = np.array(feature_importances).reshape(np.size(feature_importances), )\n",
        "ind = np.array(iris.feature_names)\n",
        "df = pd.Series(val, index=ind)\n",
        "plt.rc(\"font\", size=5)\n",
        "sns.barplot(\n",
        "    x=df.values,\n",
        "    y=df.index\n",
        ")\n",
        "plt.show()"
      ],
      "execution_count": null,
      "outputs": [
        {
          "output_type": "stream",
          "text": [
            "[0.28299474 0.0380012  0.36191434 0.31708972]\n"
          ],
          "name": "stdout"
        },
        {
          "output_type": "display_data",
          "data": {
            "image/png": "[encoded data removed]",
            "text/plain": [
              "<Figure size 432x288 with 1 Axes>"
            ]
          },
          "metadata": {
            "tags": [],
            "needs_background": "light"
          }
        }
      ]
    },
    {
      "cell_type": "code",
      "metadata": {
        "colab": {
          "base_uri": "https://localhost:8080/"
        },
        "id": "FKTwP4XjUq4A",
        "outputId": "d0f434ed-a1c3-4168-f610-6692a38fc232"
      },
      "source": [
        "# excluding 2nd feature\n",
        "X_train_new = np.column_stack((X_train[:,0], X_train[:,2:]))\n",
        "X_test_new = np.column_stack((X_test[:,0], X_test[:,2:]))\n",
        "print(\"train:\", X_train_new.shape, \"test:\", X_test_new.shape)"
      ],
      "execution_count": null,
      "outputs": [
        {
          "output_type": "stream",
          "text": [
            "train: (75, 3) test: (75, 3)\n"
          ],
          "name": "stdout"
        }
      ]
    },
    {
      "cell_type": "code",
      "metadata": {
        "colab": {
          "base_uri": "https://localhost:8080/"
        },
        "id": "QynwkMI1UsU1",
        "outputId": "72b4ef70-d21e-46a8-dc66-6c15780180b7"
      },
      "source": [
        "# kNN\n",
        "for k in range(1,40,4):\n",
        "    knn = KNeighborsClassifier(n_neighbors=k)\n",
        "    knn.fit(X_train_new, y_train)\n",
        "    y_pred = knn.predict(X_test_new)\n",
        "    score = metrics.accuracy_score(y_test, y_pred)\n",
        "    print(\"(n={0:d}) kNN: {1:.3f}%\".format(k, score))"
      ],
      "execution_count": null,
      "outputs": [
        {
          "output_type": "stream",
          "text": [
            "(n=1) kNN: 0.933%\n",
            "(n=5) kNN: 0.947%\n",
            "(n=9) kNN: 0.947%\n",
            "(n=13) kNN: 0.987%\n",
            "(n=17) kNN: 0.960%\n",
            "(n=21) kNN: 0.960%\n",
            "(n=25) kNN: 0.947%\n",
            "(n=29) kNN: 0.933%\n",
            "(n=33) kNN: 0.920%\n",
            "(n=37) kNN: 0.907%\n"
          ],
          "name": "stdout"
        }
      ]
    },
    {
      "cell_type": "code",
      "metadata": {
        "colab": {
          "base_uri": "https://localhost:8080/"
        },
        "id": "_ZR33L_2Ut-f",
        "outputId": "d9fb0579-2b4f-417f-8434-473e0e6b6da2"
      },
      "source": [
        "# SVM\n",
        "clf = svm.SVC(random_state=1,kernel=\"linear\") # linear or rbf\n",
        "clf.fit(X_train_new, y_train)\n",
        "y_pred = clf.predict(X_test_new)\n",
        "score = metrics.accuracy_score(y_test, y_pred)\n",
        "print('acc. (SVM) =', score)"
      ],
      "execution_count": null,
      "outputs": [
        {
          "output_type": "stream",
          "text": [
            "acc. (SVM) = 1.0\n"
          ],
          "name": "stdout"
        }
      ]
    },
    {
      "cell_type": "code",
      "metadata": {
        "colab": {
          "base_uri": "https://localhost:8080/"
        },
        "id": "_Oh-rsOiUv8u",
        "outputId": "ec2aee21-6086-4c00-ee27-d352331c7c45"
      },
      "source": [
        "# RF\n",
        "for k in range(1,5):\n",
        "    clf = RandomForestClassifier(random_state=1, n_estimators=k)\n",
        "    clf.fit(X_train_new, y_train)\n",
        "    y_pred = clf.predict(X_test_new)\n",
        "    # evaluation\n",
        "    score = metrics.accuracy_score(y_test, y_pred)\n",
        "    print(\"(n={0:d}) RF: {1:.3f}%\".format(k, score))"
      ],
      "execution_count": null,
      "outputs": [
        {
          "output_type": "stream",
          "text": [
            "(n=1) RF: 0.973%\n",
            "(n=2) RF: 0.947%\n",
            "(n=3) RF: 0.960%\n",
            "(n=4) RF: 0.933%\n"
          ],
          "name": "stdout"
        }
      ]
    }
  ]
}